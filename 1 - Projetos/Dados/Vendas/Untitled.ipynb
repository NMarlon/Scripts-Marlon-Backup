{
 "cells": [
  {
   "cell_type": "code",
   "execution_count": null,
   "id": "0f424de2",
   "metadata": {},
   "outputs": [],
   "source": [
    "# Importando Arquivo\n",
    "import pandas as pd\n",
    "\n",
    "# Caminho do arquivo Excel\n",
    "caminho_arquivo = 'caminho/do/arquivo.xlsx'\n",
    "\n",
    "# Importar o arquivo Excel como um DataFrame\n",
    "df = pd.read_excel(caminho_arquivo)\n",
    "\n",
    "# Exibir o DataFrame\n",
    "print(df)\n",
    "\n"
   ]
  },
  {
   "cell_type": "code",
   "execution_count": null,
   "id": "c42799f3",
   "metadata": {},
   "outputs": [],
   "source": [
    "# Treinamento\n",
    "\n",
    "import numpy as np\n",
    "from sklearn.linear_model import LinearRegression\n",
    "\n",
    "# Dados de treinamento\n",
    "X_train = np.array([[1], [2], [3], [4], [5]])  # Valores de entrada\n",
    "y_train = np.array([2, 4, 6, 8, 10])  # Valores de saída correspondentes\n",
    "\n",
    "# Criar e treinar o modelo de regressão linear\n",
    "model = LinearRegression()\n",
    "model.fit(X_train, y_train)\n",
    "\n",
    "# Valor a ser previsto\n",
    "X_test = np.array([[6]])  # Valor de entrada para previsão\n",
    "\n",
    "# Fazer a previsão\n",
    "y_pred = model.predict(X_test)\n",
    "\n",
    "# Imprimir o resultado da previsão\n",
    "print(\"Valor previsto:\", y_pred[0])"
   ]
  }
 ],
 "metadata": {
  "kernelspec": {
   "display_name": "Python 3 (ipykernel)",
   "language": "python",
   "name": "python3"
  },
  "language_info": {
   "codemirror_mode": {
    "name": "ipython",
    "version": 3
   },
   "file_extension": ".py",
   "mimetype": "text/x-python",
   "name": "python",
   "nbconvert_exporter": "python",
   "pygments_lexer": "ipython3",
   "version": "3.7.9"
  }
 },
 "nbformat": 4,
 "nbformat_minor": 5
}
