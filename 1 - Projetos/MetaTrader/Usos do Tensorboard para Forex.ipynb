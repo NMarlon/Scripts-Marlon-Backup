{
 "cells": [
  {
   "cell_type": "markdown",
   "id": "f966204b",
   "metadata": {},
   "source": [
    "# Códigos\n",
    "\n",
    "- https://www.mql5.com/en/docs/integration/python_metatrader5 "
   ]
  },
  {
   "cell_type": "code",
   "execution_count": null,
   "id": "18b73819",
   "metadata": {},
   "outputs": [],
   "source": [
    "#from datetime import datetime\n",
    "import matplotlib.pyplot as plt\n",
    "import pandas as pd\n",
    "from pandas.plotting import register_matplotlib_converters\n",
    "register_matplotlib_converters()\n",
    "import MetaTrader5 as mt5\n",
    " \n",
    "# connect to MetaTrader 5\n",
    "if not mt5.initialize():\n",
    "    print(\"initialize() failed\")\n",
    "    mt5.shutdown()"
   ]
  }
 ],
 "metadata": {
  "kernelspec": {
   "display_name": "Python 3 (ipykernel)",
   "language": "python",
   "name": "python3"
  },
  "language_info": {
   "codemirror_mode": {
    "name": "ipython",
    "version": 3
   },
   "file_extension": ".py",
   "mimetype": "text/x-python",
   "name": "python",
   "nbconvert_exporter": "python",
   "pygments_lexer": "ipython3",
   "version": "3.7.9"
  }
 },
 "nbformat": 4,
 "nbformat_minor": 5
}
