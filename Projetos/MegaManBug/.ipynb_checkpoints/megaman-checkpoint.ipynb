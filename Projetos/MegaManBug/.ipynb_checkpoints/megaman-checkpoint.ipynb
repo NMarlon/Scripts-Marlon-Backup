{
 "cells": [
  {
   "cell_type": "markdown",
   "id": "84447090-d71f-48a9-8145-0a43ad53c2a9",
   "metadata": {},
   "source": [
    "#MegaMan BugStyle (JARVIS)\n",
    "\n",
    "\n",
    "O objetivo é fazer algum tipo de IA que me entenda e automatize tudo que for capaz de se ter um input com mouse e teclado. \n",
    " (FUTURAMENTE): Prentendo ampliar isso pra que o bot tenha acesso aos poucos ao código da SO. Permitindo fazer compressões de dados (LINUX), melhorias no desempenho (esse é o foco maior) e ajuste dos mais variados bugs. (anti-virus não é mais meu foco, porque os que se tem hoje são excelentes)\n",
    "\n",
    "\n",
    "Objetivos e informações:\n",
    "- Deve ser leve o suficiente pra CPU e RAM pra rodar num Dual-Core\n",
    "- Não é necessário que tenha uma economia muito alta no HD, basta que caiba dentro de 10~50Gb, porém quanto mais compacto, melhor.\n",
    "\n",
    "\n",
    "\n",
    "\n",
    "Opciones opcionais que imagino:\n",
    "- Dividir funções específicas para usar mais tarde\n",
    "- \n",
    "\n",
    "\n",
    "\n",
    "\n",
    "\n",
    "Dar V e F para tudo que é informação que ele ver\n",
    "\n",
    "\n",
    "\"Só é possível de se adquirir verdadeira sabedoria observando todas as possibilidades de um meio\"\n",
    "   \n"
   ]
  },
  {
   "cell_type": "code",
   "execution_count": 1,
   "id": "573c9c51-b8c0-42df-a465-d87bf58c5faf",
   "metadata": {},
   "outputs": [],
   "source": [
    "import pyautogui"
   ]
  },
  {
   "cell_type": "markdown",
   "id": "46f9b008-032a-43c8-8042-2f5e390b9f93",
   "metadata": {},
   "source": [
    "Importar Biblioteca para tirar as prints ou gravar a tela"
   ]
  },
  {
   "cell_type": "code",
   "execution_count": 2,
   "id": "18da8cbc-3ee3-4cff-945d-cb806dfb41af",
   "metadata": {},
   "outputs": [],
   "source": [
    "myScreenshot = pyautogui.screenshot()\n",
    "myScreenshot.save(r'./screenshot_test.png')"
   ]
  },
  {
   "cell_type": "markdown",
   "id": "2e63a5f7-74b5-4a52-82dd-401c07fab0a2",
   "metadata": {},
   "source": [
    "Tira a print e salva"
   ]
  },
  {
   "cell_type": "code",
   "execution_count": null,
   "id": "4724639d-a270-498b-abc9-674bd870ae19",
   "metadata": {},
   "outputs": [],
   "source": []
  }
 ],
 "metadata": {
  "kernelspec": {
   "display_name": "Python 3 (ipykernel)",
   "language": "python",
   "name": "python3"
  },
  "language_info": {
   "codemirror_mode": {
    "name": "ipython",
    "version": 3
   },
   "file_extension": ".py",
   "mimetype": "text/x-python",
   "name": "python",
   "nbconvert_exporter": "python",
   "pygments_lexer": "ipython3",
   "version": "3.8.10"
  }
 },
 "nbformat": 4,
 "nbformat_minor": 5
}
